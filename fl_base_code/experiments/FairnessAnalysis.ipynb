{
 "cells": [
  {
   "cell_type": "code",
   "id": "initial_id",
   "metadata": {
    "collapsed": true,
    "ExecuteTime": {
     "end_time": "2024-12-14T22:40:29.693532Z",
     "start_time": "2024-12-14T22:40:29.690767Z"
    }
   },
   "source": [
    "import os\n",
    "import json\n",
    "import numpy as np\n",
    "import matplotlib.pyplot as plt"
   ],
   "outputs": [],
   "execution_count": 83
  },
  {
   "metadata": {
    "ExecuteTime": {
     "end_time": "2024-12-14T22:40:30.103849Z",
     "start_time": "2024-12-14T22:40:30.100668Z"
    }
   },
   "cell_type": "code",
   "source": [
    "name = 'Brightness_set_3_randombrightnessnone_2024_12_14_03_41_26'\n",
    "file = os.path.join(name, name + '.json')"
   ],
   "id": "e63c156e166920e5",
   "outputs": [],
   "execution_count": 84
  },
  {
   "metadata": {},
   "cell_type": "markdown",
   "source": "# Load JSON data",
   "id": "a99779536629e7b"
  },
  {
   "metadata": {
    "ExecuteTime": {
     "end_time": "2024-12-14T22:40:31.388945Z",
     "start_time": "2024-12-14T22:40:31.352080Z"
    }
   },
   "cell_type": "code",
   "source": [
    "# Load JSON data\n",
    "with open(file, 'r') as f:\n",
    "    data = json.load(f)"
   ],
   "id": "942f6786cfb40162",
   "outputs": [],
   "execution_count": 85
  },
  {
   "metadata": {
    "ExecuteTime": {
     "end_time": "2024-12-14T22:40:41.569312Z",
     "start_time": "2024-12-14T22:40:41.566808Z"
    }
   },
   "cell_type": "code",
   "source": [
    "# Inspect a single client's data\n",
    "#print(data)\n",
    "# print(\"Inspecting a single client's data...\")\n",
    "# print(data[\"client_results\"][\"1\"][\"0\"])  # Adjust key names as needed"
   ],
   "id": "356c20f227fa3117",
   "outputs": [],
   "execution_count": 86
  },
  {
   "metadata": {},
   "cell_type": "markdown",
   "source": "# Extract client metrics",
   "id": "39077927ecaf56a2"
  },
  {
   "metadata": {
    "ExecuteTime": {
     "end_time": "2024-12-14T22:40:43.852294Z",
     "start_time": "2024-12-14T22:40:43.846293Z"
    }
   },
   "cell_type": "code",
   "source": [
    "def extract_client_metrics(data):\n",
    "    client_metrics = {}\n",
    "    for round_number, clients in data[\"client_results\"].items():\n",
    "        for client_id, client_data in clients.items():\n",
    "            if client_id not in client_metrics:\n",
    "                client_metrics[client_id] = []\n",
    "            # Extract metrics for each round\n",
    "            client_metrics[client_id].append({\n",
    "                \"round\": int(round_number),\n",
    "                \"accuracy\": client_data.get(\"accuracy\", 0),\n",
    "                \"precision\": client_data.get(\"precision\", 0),\n",
    "                \"recall\": client_data.get(\"recall\", 0),\n",
    "                \"f1_score\": client_data.get(\"f1_score\", 0),\n",
    "                \"loss\": client_data.get(\"loss\", 0)\n",
    "            })\n",
    "    \n",
    "    # Sort metrics by round for each client\n",
    "    for client_id in client_metrics:\n",
    "        client_metrics[client_id].sort(key=lambda x: x[\"round\"])\n",
    "    \n",
    "    return client_metrics\n",
    "\n",
    "client_metrics = extract_client_metrics(data)"
   ],
   "id": "42c670faf017af7c",
   "outputs": [],
   "execution_count": 87
  },
  {
   "metadata": {
    "ExecuteTime": {
     "end_time": "2024-12-14T22:40:44.864757Z",
     "start_time": "2024-12-14T22:40:44.860756Z"
    }
   },
   "cell_type": "code",
   "source": [
    "# Check extracted metrics\n",
    "print(\"Extracted client metrics (first client):\")\n",
    "for client_id, metrics in client_metrics.items():\n",
    "    print(f\"Client {client_id}: {metrics}\")\n",
    "    break"
   ],
   "id": "b83a6fdfd4f458c7",
   "outputs": [
    {
     "name": "stdout",
     "output_type": "stream",
     "text": [
      "Extracted client metrics (first client):\n",
      "Client 0: [{'round': 1, 'accuracy': 0.4640692640692641, 'precision': 0.6443034067381893, 'recall': 0.4640692640692641, 'f1_score': 0.2986157122942938, 'loss': 0.7884121757664092}, {'round': 2, 'accuracy': 0.6441558441558441, 'precision': 0.6659604738387997, 'recall': 0.6441558441558441, 'f1_score': 0.640396601336584, 'loss': 1.1431630143564042}, {'round': 3, 'accuracy': 0.6458874458874458, 'precision': 0.6673643828169215, 'recall': 0.6458874458874458, 'f1_score': 0.6422813058015017, 'loss': 1.8474991359326938}, {'round': 4, 'accuracy': 0.6493506493506493, 'precision': 0.671509200334034, 'recall': 0.6493506493506493, 'f1_score': 0.6456462859886049, 'loss': 1.725402865201643}, {'round': 5, 'accuracy': 0.6406926406926406, 'precision': 0.6451905524989304, 'recall': 0.6406926406926406, 'f1_score': 0.6411529452960072, 'loss': 1.3284073882315257}, {'round': 6, 'accuracy': 0.6432900432900432, 'precision': 0.6491802721423087, 'recall': 0.6432900432900432, 'f1_score': 0.6435869004290057, 'loss': 1.6972956845205125}, {'round': 7, 'accuracy': 0.638095238095238, 'precision': 0.6430929475356038, 'recall': 0.638095238095238, 'f1_score': 0.6385072164053128, 'loss': 1.77667844417977}, {'round': 8, 'accuracy': 0.6406926406926406, 'precision': 0.6455974488914931, 'recall': 0.6406926406926406, 'f1_score': 0.6411129938373951, 'loss': 2.050130070072331}, {'round': 9, 'accuracy': 0.6346320346320347, 'precision': 0.6392105933282404, 'recall': 0.6346320346320347, 'f1_score': 0.6350907669570592, 'loss': 2.245247477129714}, {'round': 10, 'accuracy': 0.6406926406926406, 'precision': 0.649118905645453, 'recall': 0.6406926406926406, 'f1_score': 0.6405391122941267, 'loss': 2.3398410980015587}]\n"
     ]
    }
   ],
   "execution_count": 88
  },
  {
   "metadata": {},
   "cell_type": "markdown",
   "source": "# 1. Calculate Variance of Accuracy",
   "id": "e38e3fc4bc0a2471"
  },
  {
   "metadata": {
    "ExecuteTime": {
     "end_time": "2024-12-14T22:40:46.244264Z",
     "start_time": "2024-12-14T22:40:46.240871Z"
    }
   },
   "cell_type": "code",
   "source": [
    "# 1. Calculate Variance of Accuracy\n",
    "def calculate_accuracy_variance(client_metrics):\n",
    "    last_round_accuracies = [\n",
    "        metrics[-1][\"accuracy\"] for metrics in client_metrics.values() if metrics\n",
    "    ]\n",
    "    return np.var(last_round_accuracies)"
   ],
   "id": "d71a99e4b02cb3cd",
   "outputs": [],
   "execution_count": 89
  },
  {
   "metadata": {
    "ExecuteTime": {
     "end_time": "2024-12-14T22:40:46.713731Z",
     "start_time": "2024-12-14T22:40:46.710026Z"
    }
   },
   "cell_type": "code",
   "source": [
    "accuracy_variance = calculate_accuracy_variance(client_metrics)\n",
    "print(f\"Accuracy Variance: {accuracy_variance}\")"
   ],
   "id": "5e62473adc77a3f8",
   "outputs": [
    {
     "name": "stdout",
     "output_type": "stream",
     "text": [
      "Accuracy Variance: 0.00013570960064466516\n"
     ]
    }
   ],
   "execution_count": 90
  },
  {
   "metadata": {},
   "cell_type": "markdown",
   "source": "# 2. Calculate Gini Coefficient",
   "id": "84bd95593946f825"
  },
  {
   "metadata": {
    "ExecuteTime": {
     "end_time": "2024-12-14T22:40:47.602339Z",
     "start_time": "2024-12-14T22:40:47.597218Z"
    }
   },
   "cell_type": "code",
   "source": [
    "# 2. Calculate Gini Coefficient\n",
    "def calculate_gini_coefficient(client_metrics):\n",
    "    last_round_accuracies = sorted(\n",
    "        [metrics[-1][\"accuracy\"] for metrics in client_metrics.values() if metrics]\n",
    "    )\n",
    "    n = len(last_round_accuracies)\n",
    "    cumulative_accuracies = np.cumsum(last_round_accuracies)\n",
    "    gini = (n + 1 - 2 * np.sum(cumulative_accuracies) / cumulative_accuracies[-1]) / n\n",
    "    return gini"
   ],
   "id": "61e1fb3a69984935",
   "outputs": [],
   "execution_count": 91
  },
  {
   "metadata": {
    "ExecuteTime": {
     "end_time": "2024-12-14T22:40:48.083242Z",
     "start_time": "2024-12-14T22:40:48.078353Z"
    }
   },
   "cell_type": "code",
   "source": [
    "gini_coefficient = calculate_gini_coefficient(client_metrics)\n",
    "print(f\"Gini Coefficient: {gini_coefficient}\")"
   ],
   "id": "2d9d669c7611f1b2",
   "outputs": [
    {
     "name": "stdout",
     "output_type": "stream",
     "text": [
      "Gini Coefficient: 0.009939260077305256\n"
     ]
    }
   ],
   "execution_count": 92
  },
  {
   "metadata": {},
   "cell_type": "markdown",
   "source": "# 3. Calculate Recall Variance",
   "id": "6d8d3a4797fd029d"
  },
  {
   "metadata": {
    "ExecuteTime": {
     "end_time": "2024-12-14T22:40:49.005329Z",
     "start_time": "2024-12-14T22:40:49.000927Z"
    }
   },
   "cell_type": "code",
   "source": [
    "# 3. Calculate Recall Variance\n",
    "def calculate_recall_variance(client_metrics):\n",
    "    last_round_recalls = [\n",
    "        metrics[-1][\"recall\"] for metrics in client_metrics.values() if metrics\n",
    "    ]\n",
    "    return np.var(last_round_recalls)\n"
   ],
   "id": "78169a418f3dd340",
   "outputs": [],
   "execution_count": 93
  },
  {
   "metadata": {
    "ExecuteTime": {
     "end_time": "2024-12-14T22:40:49.470472Z",
     "start_time": "2024-12-14T22:40:49.466866Z"
    }
   },
   "cell_type": "code",
   "source": [
    "recall_variance = calculate_recall_variance(client_metrics)\n",
    "print(f\"Recall Variance: {recall_variance}\")"
   ],
   "id": "ffa9613cf96d30b8",
   "outputs": [
    {
     "name": "stdout",
     "output_type": "stream",
     "text": [
      "Recall Variance: 0.00013570960064466516\n"
     ]
    }
   ],
   "execution_count": 94
  },
  {
   "metadata": {},
   "cell_type": "markdown",
   "source": "# 4. Visualize Accuracy over Rounds for Each Client",
   "id": "f129dcd31290d9f5"
  },
  {
   "metadata": {
    "ExecuteTime": {
     "end_time": "2024-12-14T22:40:50.324212Z",
     "start_time": "2024-12-14T22:40:50.319668Z"
    }
   },
   "cell_type": "code",
   "source": [
    "# 4. Visualize Accuracy over Rounds for Each Client\n",
    "def plot_client_accuracies(client_metrics):\n",
    "    for client_id, metrics in client_metrics.items():\n",
    "        if metrics:  # Skip empty metrics\n",
    "            rounds = [entry[\"round\"] for entry in metrics]\n",
    "            accuracies = [entry[\"accuracy\"] for entry in metrics]\n",
    "            plt.plot(rounds, accuracies, label=f'Client {client_id}')\n",
    "    \n",
    "    plt.xlabel('Rounds')\n",
    "    plt.ylabel('Accuracy')\n",
    "    plt.title('Client Accuracy over Rounds')\n",
    "    plt.legend()\n",
    "    plt.show()"
   ],
   "id": "bb34859a70751e29",
   "outputs": [],
   "execution_count": 95
  },
  {
   "metadata": {
    "ExecuteTime": {
     "end_time": "2024-12-14T22:40:51.327303Z",
     "start_time": "2024-12-14T22:40:51.168906Z"
    }
   },
   "cell_type": "code",
   "source": "plot_client_accuracies(client_metrics)",
   "id": "330a32fe4bd625",
   "outputs": [
    {
     "data": {
      "text/plain": [
       "<Figure size 640x480 with 1 Axes>"
      ],
      "image/png": "[encoded data removed]"
     },
     "metadata": {},
     "output_type": "display_data"
    }
   ],
   "execution_count": 96
  },
  {
   "metadata": {},
   "cell_type": "markdown",
   "source": "# 5. Fairness Improvement Example: Reweighting Clients",
   "id": "53c94db6b3d5eebf"
  },
  {
   "metadata": {
    "ExecuteTime": {
     "end_time": "2024-12-14T22:40:54.578920Z",
     "start_time": "2024-12-14T22:40:54.574994Z"
    }
   },
   "cell_type": "code",
   "source": [
    "# 5. Fairness Improvement Example: Reweighting Clients\n",
    "def reweight_clients(client_metrics):\n",
    "    last_round_accuracies = {\n",
    "        client_id: metrics[-1][\"accuracy\"] for client_id, metrics in client_metrics.items() if metrics\n",
    "    }\n",
    "    total_accuracy = sum(last_round_accuracies.values())\n",
    "    weights = {client_id: acc / total_accuracy for client_id, acc in last_round_accuracies.items()}\n",
    "    return weights\n",
    "\n",
    "client_weights = reweight_clients(client_metrics)\n",
    "print(f\"Client Weights: {client_weights}\")"
   ],
   "id": "9d97addb188404b8",
   "outputs": [
    {
     "name": "stdout",
     "output_type": "stream",
     "text": [
      "Client Weights: {'0': 0.20430701270016563, '1': 0.19712865819988956, '2': 0.19574820541137494, '3': 0.20458310325786858, '4': 0.19823302043070126}\n"
     ]
    }
   ],
   "execution_count": 97
  },
  {
   "metadata": {
    "ExecuteTime": {
     "end_time": "2024-12-14T22:40:58.236370Z",
     "start_time": "2024-12-14T22:40:58.229996Z"
    }
   },
   "cell_type": "code",
   "source": [
    "# Optional: Save the results\n",
    "fairness_results = {\n",
    "    \"accuracy_variance\": accuracy_variance,\n",
    "    \"gini_coefficient\": gini_coefficient,\n",
    "    \"recall_variance\": recall_variance,\n",
    "    \"client_weights\": client_weights\n",
    "}\n",
    "result_path = os.path.join(name, \"fairness_results.json\")\n",
    "with open(result_path, 'w') as f:\n",
    "    json.dump(fairness_results, f, indent=4)\n",
    "\n",
    "print(\"Fairness results saved to fairness_results.json\")"
   ],
   "id": "7600639f415c2edf",
   "outputs": [
    {
     "name": "stdout",
     "output_type": "stream",
     "text": [
      "Fairness results saved to fairness_results.json\n"
     ]
    }
   ],
   "execution_count": 98
  },
  {
   "metadata": {},
   "cell_type": "code",
   "outputs": [],
   "execution_count": null,
   "source": "",
   "id": "6b2b1ec28eb7e779"
  }
 ],
 "metadata": {
  "kernelspec": {
   "display_name": "Python 3",
   "language": "python",
   "name": "python3"
  },
  "language_info": {
   "codemirror_mode": {
    "name": "ipython",
    "version": 2
   },
   "file_extension": ".py",
   "mimetype": "text/x-python",
   "name": "python",
   "nbconvert_exporter": "python",
   "pygments_lexer": "ipython2",
   "version": "2.7.6"
  }
 },
 "nbformat": 4,
 "nbformat_minor": 5
}
