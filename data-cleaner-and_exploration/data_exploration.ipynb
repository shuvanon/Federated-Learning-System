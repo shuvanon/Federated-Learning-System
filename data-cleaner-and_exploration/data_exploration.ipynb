{
 "cells": [
  {
   "cell_type": "markdown",
   "metadata": {},
   "source": [
    "# Data Exploration"
   ]
  },
  {
   "cell_type": "markdown",
   "metadata": {},
   "source": [
    "### Import Packages\n",
    "Import the necessary packages that will be used in the exploration."
   ]
  },
  {
   "cell_type": "code",
   "metadata": {},
   "source": [
    "import pandas as pd\n",
    "import numpy as np\n",
    "from PIL import Image\n",
    "import matplotlib.pyplot as plt"
   ],
   "outputs": [],
   "execution_count": null
  },
  {
   "cell_type": "markdown",
   "metadata": {},
   "source": [
    "### Data Loader\n",
    "load the data file into the notebook using pandas."
   ]
  },
  {
   "cell_type": "code",
   "metadata": {},
   "source": [
    "# siemens_amberg_labeled\n",
    "File_NAME = \"/siemens_amberg_labeled.csv\"\n",
    "SIEMENS_DATA_PATH= \"./data/siemens_amberg_labeled\"\n",
    "\n",
    "# sehoaoi_labeled\n",
    "# File_NAME = \"/sehoaoi_labeled.csv\"\n",
    "SEHOAOI_DATA_PATH= \"./data/sehoaoi_labeled\"\n",
    "\n",
    "IMAGE_PATH = \"/exactInspImage/\""
   ],
   "outputs": [],
   "execution_count": null
  },
  {
   "cell_type": "code",
   "metadata": {},
   "source": [
    "df = pd.read_csv(SIEMENS_DATA_PATH+File_NAME)\n",
    "\n",
    "df.info()"
   ],
   "outputs": [],
   "execution_count": null
  },
  {
   "cell_type": "code",
   "metadata": {},
   "source": [
    "data_to_keep = [\"imageIndex\", \"typ\", \"errText\", \"errorClassCombined\", \"errorClassText\", \"is_good\" ]\n",
    "df = df[data_to_keep]\n",
    "\n",
    "df.info()\n",
    "\n",
    "df.head()"
   ],
   "outputs": [],
   "execution_count": null
  },
  {
   "cell_type": "markdown",
   "metadata": {},
   "source": [
    "## Clean All 'AOI Gut Pruefung' Data "
   ]
  },
  {
   "cell_type": "code",
   "metadata": {},
   "source": [
    "# Check if 'errorClassText' column exists first to avoid errors\n",
    "if 'errorClassText' in df:\n",
    "    # Remove rows with \"AOI Gut Pruefung\" in the \"errorClassText\" column\n",
    "    df = df[df['errorClassText'] != 'AOI Gut Pruefung']\n",
    "\n",
    "df.head()"
   ],
   "outputs": [],
   "execution_count": null
  },
  {
   "cell_type": "markdown",
   "metadata": {},
   "source": [
    "# Create new column from the errorClassText"
   ]
  },
  {
   "cell_type": "code",
   "metadata": {},
   "source": [
    "# Create a new boolean column 'is_PseudoFehler' where the value is 1 if 'errorClassText' is \"PseudoFehler\", otherwise 0\n",
    "df['is_PseudoFehler'] = df['errorClassText'].apply(lambda x: 1 if x == \"PseudoFehler\" else 0)\n",
    "\n",
    "df.head()\n",
    "\n",
    "PseudoFehler_counts = df['is_PseudoFehler'].value_counts()\n",
    "PseudoFehler_counts\n"
   ],
   "outputs": [],
   "execution_count": null
  },
  {
   "metadata": {},
   "cell_type": "code",
   "source": [
    "PseudoFehler_counts = df['is_PseudoFehler'].value_counts()\n",
    "PseudoFehler_counts"
   ],
   "outputs": [],
   "execution_count": null
  },
  {
   "metadata": {},
   "cell_type": "code",
   "source": "df.head()",
   "outputs": [],
   "execution_count": null
  },
  {
   "metadata": {},
   "cell_type": "markdown",
   "source": "## Save dataframes to csv file"
  },
  {
   "metadata": {},
   "cell_type": "code",
   "source": [
    "csv_file_path = './data/sehoaoi_data_original.csv'\n",
    "\n",
    "df.to_csv(csv_file_path, index=False)\n",
    "\n",
    "print(f\"DataFrame is saved to {csv_file_path}\")"
   ],
   "outputs": [],
   "execution_count": null
  },
  {
   "metadata": {},
   "cell_type": "markdown",
   "source": "### Display Function"
  },
  {
   "metadata": {},
   "cell_type": "code",
   "source": [
    "def display_image(file_name, title):\n",
    "    try:\n",
    "        img = Image.open(file_name)\n",
    "        plt.imshow(img)\n",
    "        plt.title(title)\n",
    "        plt.axis('off')  # Turn off axis numbers and ticks\n",
    "        plt.show()\n",
    "    except Exception as e:\n",
    "        print(f\"An error occurred while opening {file_name}: {e}\")"
   ],
   "outputs": [],
   "execution_count": null
  },
  {
   "metadata": {},
   "cell_type": "markdown",
   "source": [
    "## Type of data \n",
    "### typ"
   ]
  },
  {
   "metadata": {},
   "cell_type": "code",
   "source": [
    "# Unique Value of the typ\n",
    "unique_values = df['typ'].unique()\n",
    "print(df['typ'].value_counts())"
   ],
   "outputs": [],
   "execution_count": null
  },
  {
   "metadata": {},
   "cell_type": "code",
   "source": [
    "unique_types = df['typ'].unique()\n",
    "for typ in unique_types:\n",
    "    # Find the first image index for the current type\n",
    "    image_file = df[df['typ'] == typ]['imageIndex'].iloc[0]\n",
    "    print(SIEMENS_DATA_PATH+IMAGE_PATH+str(image_file))\n",
    "    display_image(SIEMENS_DATA_PATH+IMAGE_PATH+str(image_file)+\".png\", f\"Type: {typ}\")"
   ],
   "outputs": [],
   "execution_count": null
  },
  {
   "metadata": {},
   "cell_type": "markdown",
   "source": [
    "## Type of error Text\n",
    "### errText"
   ]
  },
  {
   "metadata": {},
   "cell_type": "code",
   "source": [
    "# Unique Value of the errText\n",
    "unique_values = df['errText'].unique()\n",
    "print(df['errText'].value_counts())"
   ],
   "outputs": [],
   "execution_count": null
  },
  {
   "metadata": {},
   "cell_type": "markdown",
   "source": [
    "| German                   | English                    | Number |\n",
    "|--------------------------|----------------------------|--------|\n",
    "| Pin                      | Pin                        | 1621   |\n",
    "| Meniskus                 | Meniscus                   | 1411   |\n",
    "| Lötung                   | Soldering                  | 1110   |\n",
    "| Lotperle                 | Solder bead                | 524    |\n",
    "| Klemmträger verlötet     | Clamp carrier soldered     | 444    |\n",
    "| no solder                | no solder                  | 89     |\n"
   ]
  },
  {
   "metadata": {},
   "cell_type": "code",
   "source": [
    "unique_types = df['errText'].unique()\n",
    "for errText in unique_types:\n",
    "    # Find the first image index for the current type\n",
    "    image_file = df[df['errText'] == errText]['imageIndex'].iloc[0]\n",
    "    print(SIEMENS_DATA_PATH+IMAGE_PATH+str(image_file))\n",
    "    display_image(SIEMENS_DATA_PATH+IMAGE_PATH+str(image_file)+\".png\", f\"Type: {errText}\")"
   ],
   "outputs": [],
   "execution_count": null
  },
  {
   "metadata": {},
   "cell_type": "markdown",
   "source": [
    "## Type of error Class\n",
    "### errorClassCombined"
   ]
  },
  {
   "metadata": {},
   "cell_type": "code",
   "source": [
    "# Unique Value of the errorClassCombined\n",
    "unique_values = df['errorClassCombined'].unique()\n",
    "print(df['errorClassCombined'].value_counts())"
   ],
   "outputs": [],
   "execution_count": null
  },
  {
   "metadata": {},
   "cell_type": "markdown",
   "source": [
    "| German                          | English                      | Number |\n",
    "|---------------------------------|------------------------------|--------|\n",
    "| good                            | good                         | 4264   |\n",
    "| THT Bauteil fehlt               | THT component missing        | 281    |\n",
    "| THT Bauteil liegt nicht auf     | THT component is not at      | 247    |\n",
    "| THT Loetstelle offen            | THT soldering point open     | 211    |\n",
    "| THT Loetbruecke                 | THT Loetbruecke              | 189    |\n",
    "| THT Loetst.Form mangelhaft      | THT soldering form defective | 6      |\n",
    "| THT Bauteil versetzt            | THT component offset         | 1      |\n"
   ]
  },
  {
   "metadata": {},
   "cell_type": "code",
   "source": [
    "unique_types = df['errorClassCombined'].unique()\n",
    "for errorClassCombined in unique_types:\n",
    "    # Find the first image index for the current type\n",
    "    image_file = df[df['errorClassCombined'] == errorClassCombined]['imageIndex'].iloc[0]\n",
    "    print(SIEMENS_DATA_PATH+IMAGE_PATH+str(image_file))\n",
    "    display_image(SIEMENS_DATA_PATH+IMAGE_PATH+str(image_file)+\".png\", f\"Type: {errorClassCombined}\")"
   ],
   "outputs": [],
   "execution_count": null
  },
  {
   "metadata": {},
   "cell_type": "markdown",
   "source": [
    "## Type of errorClassText\n",
    "### errorClassText"
   ]
  },
  {
   "metadata": {},
   "cell_type": "code",
   "source": [
    "# Unique Value of the errorClassText\n",
    "unique_values = df['errorClassText'].unique()\n",
    "print(df['errorClassText'].value_counts())"
   ],
   "outputs": [],
   "execution_count": null
  },
  {
   "metadata": {},
   "cell_type": "code",
   "source": "",
   "outputs": [],
   "execution_count": null
  },
  {
   "cell_type": "markdown",
   "metadata": {},
   "source": []
  }
 ],
 "metadata": {
  "kernelspec": {
   "display_name": "fl",
   "language": "python",
   "name": "python3"
  },
  "language_info": {
   "codemirror_mode": {
    "name": "ipython",
    "version": 3
   },
   "file_extension": ".py",
   "mimetype": "text/x-python",
   "name": "python",
   "nbconvert_exporter": "python",
   "pygments_lexer": "ipython3",
   "version": "3.12.7"
  }
 },
 "nbformat": 4,
 "nbformat_minor": 2
}
