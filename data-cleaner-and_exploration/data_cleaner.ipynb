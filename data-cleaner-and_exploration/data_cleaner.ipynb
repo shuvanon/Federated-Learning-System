{
 "cells": [
  {
   "cell_type": "code",
   "execution_count": 1,
   "metadata": {},
   "outputs": [],
   "source": [
    "import pandas as pd\n",
    "from PIL import Image\n",
    "import numpy as np\n",
    "import shutil\n",
    "import os"
   ]
  },
  {
   "cell_type": "markdown",
   "metadata": {},
   "source": [
    "### Get Image information"
   ]
  },
  {
   "cell_type": "code",
   "execution_count": 2,
   "metadata": {},
   "outputs": [],
   "source": [
    "def image_information(image_path):\n",
    "    img = Image.open(image_path)\n",
    "    img_gray = img.convert('L')\n",
    "    img_array = np.array(img_gray)\n",
    "\n",
    "    histogram, _ = np.histogram(img_array.flatten(), bins=256, range=(0, 255), density=True)\n",
    "    histogram_nonzero = histogram[histogram > 0]\n",
    "    entropy = -np.sum(histogram_nonzero * np.log2(histogram_nonzero))\n",
    "\n",
    "    variance = np.var(img_array)\n",
    "    mean_intensity = np.mean(img_array)\n",
    "\n",
    "    contrast_difference = np.percentile(img_array, 95) - np.percentile(img_array, 5)\n",
    "\n",
    "    return entropy, variance, mean_intensity, contrast_difference"
   ]
  },
  {
   "cell_type": "markdown",
   "metadata": {},
   "source": [
    "### Classify Image information"
   ]
  },
  {
   "cell_type": "code",
   "execution_count": 3,
   "metadata": {},
   "outputs": [],
   "source": [
    "def classify_image(entropy, variance, mean_intensity, contrast_difference):\n",
    "    ENTROPY_THRESHOLD= 5.0\n",
    "    VARIANCE_THRESHOLD=200.0\n",
    "    INTENSITY_LOW_THRESHOLD=30\n",
    "    INTENSITY_HIGH_THRESHOLD=250\n",
    "    CONTRAST_DIFFERENCE_THRESHOLD = 20\n",
    "    if entropy > ENTROPY_THRESHOLD and variance > VARIANCE_THRESHOLD and INTENSITY_LOW_THRESHOLD < mean_intensity < INTENSITY_HIGH_THRESHOLD or contrast_difference>= CONTRAST_DIFFERENCE_THRESHOLD:\n",
    "        return 'high'\n",
    "    return 'low'"
   ]
  },
  {
   "cell_type": "markdown",
   "metadata": {},
   "source": [
    "### Data Loader\n",
    "load the data file into the notebook using pandas."
   ]
  },
  {
   "cell_type": "code",
   "execution_count": 12,
   "metadata": {},
   "outputs": [],
   "source": [
    "# siemens_amberg_labeled\n",
    "File_NAME_SIEMENS = \"data/siemens_data_original.csv\"\n",
    "IMAGE_PATH_SIEMENS = \"data/siemens_amberg_labeled/exactInspImage/\"\n",
    "\n",
    "# sehoaoi_labeled\n",
    "File_NAME_SEHOAOI = \"data/sehoaoi_data_original.csv\"\n",
    "IMAGE_PATH_SEHOAOI = \"data/sehoaoi_labeled/exactInspImage/\"\n",
    "\n",
    "DATA_PATH= \"\"\n"
   ]
  },
  {
   "cell_type": "code",
   "execution_count": 13,
   "metadata": {},
   "outputs": [
    {
     "name": "stdout",
     "output_type": "stream",
     "text": [
      "<class 'pandas.core.frame.DataFrame'>\n",
      "RangeIndex: 1840 entries, 0 to 1839\n",
      "Data columns (total 7 columns):\n",
      " #   Column              Non-Null Count  Dtype \n",
      "---  ------              --------------  ----- \n",
      " 0   imageIndex          1840 non-null   int64 \n",
      " 1   typ                 1840 non-null   object\n",
      " 2   errText             1840 non-null   object\n",
      " 3   errorClassCombined  1840 non-null   object\n",
      " 4   errorClassText      1840 non-null   object\n",
      " 5   is_good             1840 non-null   int64 \n",
      " 6   is_PseudoFehler     1840 non-null   int64 \n",
      "dtypes: int64(3), object(4)\n",
      "memory usage: 100.8+ KB\n"
     ]
    }
   ],
   "source": [
    "df = pd.read_csv(DATA_PATH+File_NAME_SIEMENS)\n",
    "\n",
    "df.info()"
   ]
  },
  {
   "cell_type": "markdown",
   "metadata": {},
   "source": [
    "### Data Analysis\n"
   ]
  },
  {
   "cell_type": "code",
   "execution_count": 15,
   "metadata": {},
   "outputs": [
    {
     "name": "stdout",
     "output_type": "stream",
     "text": [
      "High information files number: 1838\n",
      "Low information files number: 2\n"
     ]
    }
   ],
   "source": [
    "high_info_files = []\n",
    "low_info_files = []\n",
    "contrast_difference_list =[]\n",
    "high_info_index = []\n",
    "\n",
    "for image_index in df['imageIndex']:\n",
    "    file_name = IMAGE_PATH_SIEMENS+str(image_index)+\".png\"  # Change the Image path\n",
    "    try:\n",
    "        entropy, variance, mean_intensity, contrast_difference = image_information(file_name)\n",
    "        classification = classify_image(entropy, variance, mean_intensity, contrast_difference)\n",
    "        if classification == 'high':\n",
    "            high_info_index.append(image_index)\n",
    "            high_info_files.append(file_name)\n",
    "        else:\n",
    "            low_info_files.append(file_name)\n",
    "            contrast_difference_list.append(contrast_difference)\n",
    "    except FileNotFoundError:\n",
    "        print(f\"File not found: {file_name}\")\n",
    "    except Exception as e:\n",
    "        print(f\"An error occurred while processing {file_name}: {e}\")\n",
    "\n",
    "print(\"High information files number:\", len(high_info_files))\n",
    "print(\"Low information files number:\", len(low_info_files))"
   ]
  },
  {
   "cell_type": "markdown",
   "metadata": {},
   "source": [
    "### Make copy of high and lowinformation image into new folder"
   ]
  },
  {
   "cell_type": "code",
   "execution_count": 16,
   "metadata": {},
   "outputs": [],
   "source": [
    "def copy_files(file_list, target_folder):\n",
    "\n",
    "    if not os.path.exists(target_folder):\n",
    "        os.makedirs(target_folder)\n",
    "    \n",
    "    for file_path in file_list:\n",
    "        if os.path.isfile(file_path):\n",
    "            target_file_path = os.path.join(target_folder, os.path.basename(file_path))\n",
    "            shutil.copy2(file_path, target_file_path)\n",
    "        else:\n",
    "            print(f\"The file {file_path} does not exist.\")"
   ]
  },
  {
   "cell_type": "code",
   "execution_count": 17,
   "metadata": {},
   "outputs": [],
   "source": [
    "HIGH_IMAGE_PATH = IMAGE_PATH_SIEMENS + \"/high\"\n",
    "LOW_IMAGE_PATH = IMAGE_PATH_SIEMENS + \"/low\"\n",
    "\n",
    "copy_files(high_info_files,HIGH_IMAGE_PATH)\n",
    "copy_files(low_info_files,LOW_IMAGE_PATH)"
   ]
  },
  {
   "cell_type": "markdown",
   "metadata": {},
   "source": [
    "### I need to clean up below code "
   ]
  },
  {
   "cell_type": "code",
   "execution_count": 25,
   "metadata": {},
   "outputs": [
    {
     "name": "stdout",
     "output_type": "stream",
     "text": [
      "DataFrame saved to low_info_files_sdehoaoi.csv\n"
     ]
    }
   ],
   "source": [
    "low_info_data = {\n",
    "    'File': low_info_files,\n",
    "    'Contrast Difference': contrast_difference_list\n",
    "}\n",
    "\n",
    "low_info_df = pd.DataFrame(low_info_data)\n",
    "\n",
    "# Save DataFrame to CSV\n",
    "csv_file_path = 'low_info_files_sdehoaoi.csv' \n",
    "low_info_df.to_csv(csv_file_path, index=False)\n",
    "\n",
    "print(f\"DataFrame saved to {csv_file_path}\")"
   ]
  },
  {
   "cell_type": "markdown",
   "metadata": {},
   "source": [
    "### Test on Low"
   ]
  },
  {
   "cell_type": "code",
   "execution_count": 26,
   "metadata": {},
   "outputs": [
    {
     "ename": "FileNotFoundError",
     "evalue": "[Errno 2] No such file or directory: './data/siemens_amberg_labeled/exactInspImage//low/4494.png'",
     "output_type": "error",
     "traceback": [
      "\u001b[1;31m---------------------------------------------------------------------------\u001b[0m",
      "\u001b[1;31mFileNotFoundError\u001b[0m                         Traceback (most recent call last)",
      "Cell \u001b[1;32mIn[26], line 2\u001b[0m\n\u001b[0;32m      1\u001b[0m file_name_low \u001b[38;5;241m=\u001b[39m LOW_IMAGE_PATH \u001b[38;5;241m+\u001b[39m \u001b[38;5;124m\"\u001b[39m\u001b[38;5;124m/4494.png\u001b[39m\u001b[38;5;124m\"\u001b[39m\n\u001b[1;32m----> 2\u001b[0m entropy, variance, mean_intensity, contrast_difference \u001b[38;5;241m=\u001b[39m \u001b[43mimage_information\u001b[49m\u001b[43m(\u001b[49m\u001b[43mfile_name_low\u001b[49m\u001b[43m)\u001b[49m\n\u001b[0;32m      4\u001b[0m \u001b[38;5;28mprint\u001b[39m(file_name_low)\n\u001b[0;32m      5\u001b[0m \u001b[38;5;28mprint\u001b[39m(entropy)\n",
      "Cell \u001b[1;32mIn[18], line 2\u001b[0m, in \u001b[0;36mimage_information\u001b[1;34m(image_path)\u001b[0m\n\u001b[0;32m      1\u001b[0m \u001b[38;5;28;01mdef\u001b[39;00m \u001b[38;5;21mimage_information\u001b[39m(image_path):\n\u001b[1;32m----> 2\u001b[0m     img \u001b[38;5;241m=\u001b[39m \u001b[43mImage\u001b[49m\u001b[38;5;241;43m.\u001b[39;49m\u001b[43mopen\u001b[49m\u001b[43m(\u001b[49m\u001b[43mimage_path\u001b[49m\u001b[43m)\u001b[49m\n\u001b[0;32m      3\u001b[0m     img_gray \u001b[38;5;241m=\u001b[39m img\u001b[38;5;241m.\u001b[39mconvert(\u001b[38;5;124m'\u001b[39m\u001b[38;5;124mL\u001b[39m\u001b[38;5;124m'\u001b[39m)\n\u001b[0;32m      4\u001b[0m     img_array \u001b[38;5;241m=\u001b[39m np\u001b[38;5;241m.\u001b[39marray(img_gray)\n",
      "File \u001b[1;32mc:\\Users\\Shuvanon\\anaconda3\\envs\\fl\\Lib\\site-packages\\PIL\\Image.py:3247\u001b[0m, in \u001b[0;36mopen\u001b[1;34m(fp, mode, formats)\u001b[0m\n\u001b[0;32m   3244\u001b[0m     filename \u001b[38;5;241m=\u001b[39m fp\n\u001b[0;32m   3246\u001b[0m \u001b[38;5;28;01mif\u001b[39;00m filename:\n\u001b[1;32m-> 3247\u001b[0m     fp \u001b[38;5;241m=\u001b[39m \u001b[43mbuiltins\u001b[49m\u001b[38;5;241;43m.\u001b[39;49m\u001b[43mopen\u001b[49m\u001b[43m(\u001b[49m\u001b[43mfilename\u001b[49m\u001b[43m,\u001b[49m\u001b[43m \u001b[49m\u001b[38;5;124;43m\"\u001b[39;49m\u001b[38;5;124;43mrb\u001b[39;49m\u001b[38;5;124;43m\"\u001b[39;49m\u001b[43m)\u001b[49m\n\u001b[0;32m   3248\u001b[0m     exclusive_fp \u001b[38;5;241m=\u001b[39m \u001b[38;5;28;01mTrue\u001b[39;00m\n\u001b[0;32m   3250\u001b[0m \u001b[38;5;28;01mtry\u001b[39;00m:\n",
      "\u001b[1;31mFileNotFoundError\u001b[0m: [Errno 2] No such file or directory: './data/siemens_amberg_labeled/exactInspImage//low/4494.png'"
     ]
    }
   ],
   "source": [
    "file_name_low = LOW_IMAGE_PATH + \"/4494.png\"\n",
    "entropy, variance, mean_intensity, contrast_difference = image_information(file_name_low)\n",
    "\n",
    "print(file_name_low)\n",
    "print(entropy)\n",
    "print(variance)\n",
    "print(mean_intensity)\n",
    "print(contrast_difference)"
   ]
  },
  {
   "cell_type": "markdown",
   "metadata": {},
   "source": [
    "### Test on high"
   ]
  },
  {
   "cell_type": "code",
   "execution_count": 27,
   "metadata": {},
   "outputs": [
    {
     "ename": "FileNotFoundError",
     "evalue": "[Errno 2] No such file or directory: './data/siemens_amberg_labeled/exactInspImage//high/54.png'",
     "output_type": "error",
     "traceback": [
      "\u001b[1;31m---------------------------------------------------------------------------\u001b[0m",
      "\u001b[1;31mFileNotFoundError\u001b[0m                         Traceback (most recent call last)",
      "Cell \u001b[1;32mIn[27], line 2\u001b[0m\n\u001b[0;32m      1\u001b[0m file_name_high \u001b[38;5;241m=\u001b[39m HIGH_IMAGE_PATH \u001b[38;5;241m+\u001b[39m \u001b[38;5;124m\"\u001b[39m\u001b[38;5;124m/54.png\u001b[39m\u001b[38;5;124m\"\u001b[39m\n\u001b[1;32m----> 2\u001b[0m entropy, variance, mean_intensity, contrast_difference \u001b[38;5;241m=\u001b[39m \u001b[43mimage_information\u001b[49m\u001b[43m(\u001b[49m\u001b[43mfile_name_high\u001b[49m\u001b[43m)\u001b[49m\n\u001b[0;32m      4\u001b[0m \u001b[38;5;28mprint\u001b[39m(file_name_high)\n\u001b[0;32m      5\u001b[0m \u001b[38;5;28mprint\u001b[39m(entropy)\n",
      "Cell \u001b[1;32mIn[18], line 2\u001b[0m, in \u001b[0;36mimage_information\u001b[1;34m(image_path)\u001b[0m\n\u001b[0;32m      1\u001b[0m \u001b[38;5;28;01mdef\u001b[39;00m \u001b[38;5;21mimage_information\u001b[39m(image_path):\n\u001b[1;32m----> 2\u001b[0m     img \u001b[38;5;241m=\u001b[39m \u001b[43mImage\u001b[49m\u001b[38;5;241;43m.\u001b[39;49m\u001b[43mopen\u001b[49m\u001b[43m(\u001b[49m\u001b[43mimage_path\u001b[49m\u001b[43m)\u001b[49m\n\u001b[0;32m      3\u001b[0m     img_gray \u001b[38;5;241m=\u001b[39m img\u001b[38;5;241m.\u001b[39mconvert(\u001b[38;5;124m'\u001b[39m\u001b[38;5;124mL\u001b[39m\u001b[38;5;124m'\u001b[39m)\n\u001b[0;32m      4\u001b[0m     img_array \u001b[38;5;241m=\u001b[39m np\u001b[38;5;241m.\u001b[39marray(img_gray)\n",
      "File \u001b[1;32mc:\\Users\\Shuvanon\\anaconda3\\envs\\fl\\Lib\\site-packages\\PIL\\Image.py:3247\u001b[0m, in \u001b[0;36mopen\u001b[1;34m(fp, mode, formats)\u001b[0m\n\u001b[0;32m   3244\u001b[0m     filename \u001b[38;5;241m=\u001b[39m fp\n\u001b[0;32m   3246\u001b[0m \u001b[38;5;28;01mif\u001b[39;00m filename:\n\u001b[1;32m-> 3247\u001b[0m     fp \u001b[38;5;241m=\u001b[39m \u001b[43mbuiltins\u001b[49m\u001b[38;5;241;43m.\u001b[39;49m\u001b[43mopen\u001b[49m\u001b[43m(\u001b[49m\u001b[43mfilename\u001b[49m\u001b[43m,\u001b[49m\u001b[43m \u001b[49m\u001b[38;5;124;43m\"\u001b[39;49m\u001b[38;5;124;43mrb\u001b[39;49m\u001b[38;5;124;43m\"\u001b[39;49m\u001b[43m)\u001b[49m\n\u001b[0;32m   3248\u001b[0m     exclusive_fp \u001b[38;5;241m=\u001b[39m \u001b[38;5;28;01mTrue\u001b[39;00m\n\u001b[0;32m   3250\u001b[0m \u001b[38;5;28;01mtry\u001b[39;00m:\n",
      "\u001b[1;31mFileNotFoundError\u001b[0m: [Errno 2] No such file or directory: './data/siemens_amberg_labeled/exactInspImage//high/54.png'"
     ]
    }
   ],
   "source": [
    "file_name_high = HIGH_IMAGE_PATH + \"/54.png\"\n",
    "entropy, variance, mean_intensity, contrast_difference = image_information(file_name_high)\n",
    "\n",
    "print(file_name_high)\n",
    "print(entropy)\n",
    "print(variance)\n",
    "print(mean_intensity)\n",
    "print(contrast_difference)"
   ]
  },
  {
   "cell_type": "markdown",
   "metadata": {},
   "source": [
    "### Delete all data"
   ]
  },
  {
   "cell_type": "code",
   "execution_count": 7,
   "metadata": {},
   "outputs": [],
   "source": [
    "def delete_files_in_folder(folder_path):\n",
    "\n",
    "    if not os.path.exists(folder_path):\n",
    "        print(f\"The folder {folder_path} does not exist.\")\n",
    "        return\n",
    "\n",
    "    for filename in os.listdir(folder_path):\n",
    "        file_path = os.path.join(folder_path, filename)\n",
    "        \n",
    "        try:\n",
    "            if os.path.isfile(file_path) or os.path.islink(file_path):\n",
    "                os.unlink(file_path)  # Remove the file or link\n",
    "            elif os.path.isdir(file_path):\n",
    "                shutil.rmtree(file_path)  # Remove the directory and its contents\n",
    "        except Exception as e:\n",
    "            print(f\"Failed to delete {file_path}. Reason: {e}\")"
   ]
  },
  {
   "cell_type": "code",
   "execution_count": 8,
   "metadata": {},
   "outputs": [
    {
     "ename": "NameError",
     "evalue": "name 'HIGH_IMAGE_PATH' is not defined",
     "output_type": "error",
     "traceback": [
      "\u001b[1;31m---------------------------------------------------------------------------\u001b[0m",
      "\u001b[1;31mNameError\u001b[0m                                 Traceback (most recent call last)",
      "Cell \u001b[1;32mIn[8], line 1\u001b[0m\n\u001b[1;32m----> 1\u001b[0m delete_files_in_folder(\u001b[43mHIGH_IMAGE_PATH\u001b[49m)\n\u001b[0;32m      2\u001b[0m delete_files_in_folder(LOW_IMAGE_PATH)\n",
      "\u001b[1;31mNameError\u001b[0m: name 'HIGH_IMAGE_PATH' is not defined"
     ]
    }
   ],
   "source": [
    "delete_files_in_folder(HIGH_IMAGE_PATH)\n",
    "delete_files_in_folder(LOW_IMAGE_PATH)"
   ]
  },
  {
   "cell_type": "code",
   "execution_count": 13,
   "metadata": {},
   "outputs": [],
   "source": [
    "filtered_df = df[df['imageIndex'].isin(high_info_index)]\n",
    "filtered_df.to_csv('sehoaoi_labeled_original_high.csv', index=False)\n"
   ]
  },
  {
   "cell_type": "code",
   "execution_count": null,
   "metadata": {},
   "outputs": [],
   "source": []
  }
 ],
 "metadata": {
  "kernelspec": {
   "display_name": "fl",
   "language": "python",
   "name": "python3"
  },
  "language_info": {
   "codemirror_mode": {
    "name": "ipython",
    "version": 3
   },
   "file_extension": ".py",
   "mimetype": "text/x-python",
   "name": "python",
   "nbconvert_exporter": "python",
   "pygments_lexer": "ipython3",
   "version": "3.12.7"
  }
 },
 "nbformat": 4,
 "nbformat_minor": 2
}
