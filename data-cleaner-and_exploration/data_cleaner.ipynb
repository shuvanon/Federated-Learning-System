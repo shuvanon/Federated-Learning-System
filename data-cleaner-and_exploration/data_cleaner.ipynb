{
 "cells": [
  {
   "cell_type": "code",
   "metadata": {},
   "source": [
    "import pandas as pd\n",
    "from PIL import Image\n",
    "import numpy as np\n",
    "import shutil\n",
    "import os"
   ],
   "outputs": [],
   "execution_count": null
  },
  {
   "cell_type": "markdown",
   "metadata": {},
   "source": [
    "### Get Image information"
   ]
  },
  {
   "cell_type": "code",
   "metadata": {},
   "source": [
    "def image_information(image_path):\n",
    "    img = Image.open(image_path)\n",
    "    img_gray = img.convert('L')\n",
    "    img_array = np.array(img_gray)\n",
    "\n",
    "    histogram, _ = np.histogram(img_array.flatten(), bins=256, range=(0, 255), density=True)\n",
    "    histogram_nonzero = histogram[histogram > 0]\n",
    "    entropy = -np.sum(histogram_nonzero * np.log2(histogram_nonzero))\n",
    "\n",
    "    variance = np.var(img_array)\n",
    "    mean_intensity = np.mean(img_array)\n",
    "\n",
    "    contrast_difference = np.percentile(img_array, 95) - np.percentile(img_array, 5)\n",
    "\n",
    "    return entropy, variance, mean_intensity, contrast_difference"
   ],
   "outputs": [],
   "execution_count": null
  },
  {
   "cell_type": "markdown",
   "metadata": {},
   "source": [
    "### Classify Image information"
   ]
  },
  {
   "cell_type": "code",
   "metadata": {},
   "source": [
    "def classify_image(entropy, variance, mean_intensity, contrast_difference):\n",
    "    ENTROPY_THRESHOLD= 5.0\n",
    "    VARIANCE_THRESHOLD=200.0\n",
    "    INTENSITY_LOW_THRESHOLD=30\n",
    "    INTENSITY_HIGH_THRESHOLD=250\n",
    "    CONTRAST_DIFFERENCE_THRESHOLD = 20\n",
    "    if entropy > ENTROPY_THRESHOLD and variance > VARIANCE_THRESHOLD and INTENSITY_LOW_THRESHOLD < mean_intensity < INTENSITY_HIGH_THRESHOLD or contrast_difference>= CONTRAST_DIFFERENCE_THRESHOLD:\n",
    "        return 'high'\n",
    "    return 'low'"
   ],
   "outputs": [],
   "execution_count": null
  },
  {
   "cell_type": "markdown",
   "metadata": {},
   "source": [
    "### Data Loader\n",
    "load the data file into the notebook using pandas."
   ]
  },
  {
   "cell_type": "code",
   "metadata": {},
   "source": [
    "# siemens_amberg_labeled\n",
    "File_NAME_SIEMENS = \"data/siemens_data_original.csv\"\n",
    "IMAGE_PATH_SIEMENS = \"data/siemens_amberg_labeled/exactInspImage/\"\n",
    "\n",
    "# sehoaoi_labeled\n",
    "File_NAME_SEHOAOI = \"data/sehoaoi_data_original.csv\"\n",
    "IMAGE_PATH_SEHOAOI = \"data/sehoaoi_labeled/exactInspImage/\"\n",
    "\n",
    "DATA_PATH= \"\"\n"
   ],
   "outputs": [],
   "execution_count": null
  },
  {
   "cell_type": "code",
   "metadata": {},
   "source": [
    "df = pd.read_csv(DATA_PATH+File_NAME_SIEMENS)\n",
    "\n",
    "df.info()"
   ],
   "outputs": [],
   "execution_count": null
  },
  {
   "cell_type": "markdown",
   "metadata": {},
   "source": [
    "### Data Analysis\n"
   ]
  },
  {
   "cell_type": "code",
   "metadata": {},
   "source": [
    "high_info_files = []\n",
    "low_info_files = []\n",
    "contrast_difference_list =[]\n",
    "high_info_index = []\n",
    "\n",
    "for image_index in df['imageIndex']:\n",
    "    file_name = IMAGE_PATH_SIEMENS+str(image_index)+\".png\"  # Change the Image path\n",
    "    try:\n",
    "        entropy, variance, mean_intensity, contrast_difference = image_information(file_name)\n",
    "        classification = classify_image(entropy, variance, mean_intensity, contrast_difference)\n",
    "        if classification == 'high':\n",
    "            high_info_index.append(image_index)\n",
    "            high_info_files.append(file_name)\n",
    "        else:\n",
    "            low_info_files.append(file_name)\n",
    "            contrast_difference_list.append(contrast_difference)\n",
    "    except FileNotFoundError:\n",
    "        print(f\"File not found: {file_name}\")\n",
    "    except Exception as e:\n",
    "        print(f\"An error occurred while processing {file_name}: {e}\")\n",
    "\n",
    "print(\"High information files number:\", len(high_info_files))\n",
    "print(\"Low information files number:\", len(low_info_files))"
   ],
   "outputs": [],
   "execution_count": null
  },
  {
   "cell_type": "markdown",
   "metadata": {},
   "source": [
    "### Make copy of high and lowinformation image into new folder"
   ]
  },
  {
   "cell_type": "code",
   "metadata": {},
   "source": [
    "def copy_files(file_list, target_folder):\n",
    "\n",
    "    if not os.path.exists(target_folder):\n",
    "        os.makedirs(target_folder)\n",
    "    \n",
    "    for file_path in file_list:\n",
    "        if os.path.isfile(file_path):\n",
    "            target_file_path = os.path.join(target_folder, os.path.basename(file_path))\n",
    "            shutil.copy2(file_path, target_file_path)\n",
    "        else:\n",
    "            print(f\"The file {file_path} does not exist.\")"
   ],
   "outputs": [],
   "execution_count": null
  },
  {
   "cell_type": "code",
   "metadata": {},
   "source": [
    "HIGH_IMAGE_PATH = IMAGE_PATH_SIEMENS + \"/high\"\n",
    "LOW_IMAGE_PATH = IMAGE_PATH_SIEMENS + \"/low\"\n",
    "\n",
    "copy_files(high_info_files,HIGH_IMAGE_PATH)\n",
    "copy_files(low_info_files,LOW_IMAGE_PATH)"
   ],
   "outputs": [],
   "execution_count": null
  },
  {
   "cell_type": "markdown",
   "metadata": {},
   "source": [
    "### I need to clean up below code "
   ]
  },
  {
   "cell_type": "code",
   "metadata": {},
   "source": [
    "low_info_data = {\n",
    "    'File': low_info_files,\n",
    "    'Contrast Difference': contrast_difference_list\n",
    "}\n",
    "\n",
    "low_info_df = pd.DataFrame(low_info_data)\n",
    "\n",
    "# Save DataFrame to CSV\n",
    "csv_file_path = 'low_info_files_sdehoaoi.csv' \n",
    "low_info_df.to_csv(csv_file_path, index=False)\n",
    "\n",
    "print(f\"DataFrame saved to {csv_file_path}\")"
   ],
   "outputs": [],
   "execution_count": null
  },
  {
   "cell_type": "markdown",
   "metadata": {},
   "source": [
    "### Test on Low"
   ]
  },
  {
   "cell_type": "code",
   "metadata": {},
   "source": [
    "file_name_low = LOW_IMAGE_PATH + \"/4494.png\"\n",
    "entropy, variance, mean_intensity, contrast_difference = image_information(file_name_low)\n",
    "\n",
    "print(file_name_low)\n",
    "print(entropy)\n",
    "print(variance)\n",
    "print(mean_intensity)\n",
    "print(contrast_difference)"
   ],
   "outputs": [],
   "execution_count": null
  },
  {
   "cell_type": "markdown",
   "metadata": {},
   "source": [
    "### Test on high"
   ]
  },
  {
   "cell_type": "code",
   "metadata": {},
   "source": [
    "file_name_high = HIGH_IMAGE_PATH + \"/54.png\"\n",
    "entropy, variance, mean_intensity, contrast_difference = image_information(file_name_high)\n",
    "\n",
    "print(file_name_high)\n",
    "print(entropy)\n",
    "print(variance)\n",
    "print(mean_intensity)\n",
    "print(contrast_difference)"
   ],
   "outputs": [],
   "execution_count": null
  },
  {
   "cell_type": "markdown",
   "metadata": {},
   "source": [
    "### Delete all data"
   ]
  },
  {
   "cell_type": "code",
   "metadata": {},
   "source": [
    "def delete_files_in_folder(folder_path):\n",
    "\n",
    "    if not os.path.exists(folder_path):\n",
    "        print(f\"The folder {folder_path} does not exist.\")\n",
    "        return\n",
    "\n",
    "    for filename in os.listdir(folder_path):\n",
    "        file_path = os.path.join(folder_path, filename)\n",
    "        \n",
    "        try:\n",
    "            if os.path.isfile(file_path) or os.path.islink(file_path):\n",
    "                os.unlink(file_path)  # Remove the file or link\n",
    "            elif os.path.isdir(file_path):\n",
    "                shutil.rmtree(file_path)  # Remove the directory and its contents\n",
    "        except Exception as e:\n",
    "            print(f\"Failed to delete {file_path}. Reason: {e}\")"
   ],
   "outputs": [],
   "execution_count": null
  },
  {
   "cell_type": "code",
   "metadata": {},
   "source": [
    "delete_files_in_folder(HIGH_IMAGE_PATH)\n",
    "delete_files_in_folder(LOW_IMAGE_PATH)"
   ],
   "outputs": [],
   "execution_count": null
  },
  {
   "cell_type": "code",
   "metadata": {},
   "source": [
    "filtered_df = df[df['imageIndex'].isin(high_info_index)]\n",
    "filtered_df.to_csv('sehoaoi_labeled_original_high.csv', index=False)\n"
   ],
   "outputs": [],
   "execution_count": null
  },
  {
   "cell_type": "code",
   "metadata": {},
   "source": [],
   "outputs": [],
   "execution_count": null
  }
 ],
 "metadata": {
  "kernelspec": {
   "display_name": "fl",
   "language": "python",
   "name": "python3"
  },
  "language_info": {
   "codemirror_mode": {
    "name": "ipython",
    "version": 3
   },
   "file_extension": ".py",
   "mimetype": "text/x-python",
   "name": "python",
   "nbconvert_exporter": "python",
   "pygments_lexer": "ipython3",
   "version": "3.12.7"
  }
 },
 "nbformat": 4,
 "nbformat_minor": 2
}
